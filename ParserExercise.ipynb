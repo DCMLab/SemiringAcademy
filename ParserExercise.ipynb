{
 "cells": [
  {
   "cell_type": "markdown",
   "metadata": {},
   "source": [
    "# Exercise Semiring Parsing\n",
    "\n",
    "This notebook contains coding exercises to guide you through the implementation and application of a [semiring](https://en.wikipedia.org/wiki/Semiring) parser. The goal of the exercises is to understand the parsing algorithm and how information about parse trees can be encoded using the semiring abstraction. At the end of the exercise, you will be able to parse a sequence against a context-free grammar in [Chomsky normal form](https://en.wikipedia.org/wiki/Chomsky_normal_form) and to visualize its parse forest. You can read [this paper](https://www.aclweb.org/anthology/J99-4004) by Joshua Goodman (1999) to learn more about semiring parsing. His [dissertation](https://dash.harvard.edu/bitstream/handle/1/24829603/tr-07-98.pdf?sequence=1). Provides even more details.\n",
    "\n",
    "Note that the code in this notebook is arranged in a way that it is easy to read and that it generalizes well to real-world applications. The concrete implementation in this notebook is, however, not optimized for performance.\n",
    "\n",
    "A grammar in [Chomsky normal form](https://en.wikipedia.org/wiki/Chomsky_normal_form) contains only binary rules of the form\n",
    "\n",
    "$$A \\longrightarrow B \\quad C$$\n",
    "\n",
    "for nonterminal symbols $A,B,C$ and terminal rules\n",
    "\n",
    "$$A \\longrightarrow a$$\n",
    "\n",
    "for nonterminal symbols $A$ and terminal symbols $a$. The grammar additionally specifies one nonterminal as the start symbol and maps each rule to a value in a [semiring](https://en.wikipedia.org/wiki/Semiring), a **semiring score**. \n",
    "\n",
    "In this exercise, we represent those binary rules by the pair of its left-hand side (lhs) and its right-hand side (rhs), `(\"A\", (\"B\", \"C\"))`, where the rhs is a pair of two nonterminal symbols. The terminal rules are represented as pairs `(\"A\", \"a\")`. One choice of the score function is the count score that maps each rule to the integer `1`. That is, the parser will calculate the number of possible parse trees of an input sequence.\n",
    "\n",
    "The components of an oversimplified toy grammar for harmonic sequences of tonic, subdominat, and dominant chords in C major would then look like:"
   ]
  },
  {
   "cell_type": "code",
   "execution_count": null,
   "metadata": {},
   "outputs": [],
   "source": [
    "score = lambda rule: 1\n",
    "\n",
    "start = \"I\"\n",
    "\n",
    "rules = [\n",
    "    (\"I\", (\"I\", \"I\")),\n",
    "    (\"I\", (\"V\", \"I\")),\n",
    "    (\"V\", (\"II\", \"V\")),\n",
    "    (\"I\", \"Cmaj7\"),\n",
    "    (\"II\", \"Dm7\"),\n",
    "    (\"V\", \"G7\"),\n",
    "]"
   ]
  },
  {
   "cell_type": "markdown",
   "metadata": {},
   "source": [
    "---\n",
    "\n",
    "## Exercise 1. The [CYK Algorithm](https://en.wikipedia.org/wiki/CYK_algorithm)\n",
    "\n",
    "The first exercise is to complete the implementation of the parsing algorithm in the following code cell. The class `Grammar` packages up the score function, the start symbol, and the rules of a grammar into one object. This class has two methods. \n",
    "- The first method `completions(grammar, rhs)` computes all possible lhs with their scores from a given rhs. Note that more than one lhs can be possible for a given rhs if the rhs is contained in multiple grammar rules. \n",
    "- The second method `parse(grammar, terminals)` computes the score of the start symbol over the range of the complete input sequence. The return value `None` stands for the semiring value zero.\n",
    "\n",
    "**Exercise 1.1.** Complete the implementation of the parse method using the overloadable operators `+` and `*`."
   ]
  },
  {
   "cell_type": "code",
   "execution_count": null,
   "metadata": {},
   "outputs": [],
   "source": [
    "class Grammar:\n",
    "    def __init__(grammar, score, start, rules):\n",
    "        grammar.score = score\n",
    "        grammar.start = start\n",
    "        grammar.rules = rules\n",
    "        \n",
    "    def completions(grammar, rhs):\n",
    "        return { r[0]: grammar.score(r) for r in grammar.rules if r[1] == rhs }\n",
    "    \n",
    "    def parse(grammar, terminals):\n",
    "        n = len(terminals)\n",
    "        \n",
    "        # The chart is a data structure that maps pais of indices (i, j)\n",
    "        # to the nonterminals that can generate the subsequence\n",
    "        # terminals[i], terminals[i+1], ..., terminals[j].\n",
    "        # The chart is initialized with empty dictionaries for all i and j\n",
    "        chart = {(i, j): {} for i in range(n) for j in range(n)}\n",
    "\n",
    "        # compute the scored completions for each terminal in the input sequence\n",
    "        for (i, terminal) in enumerate(terminals):\n",
    "            chart[i, i] = grammar.completions(terminal)\n",
    "\n",
    "        # complete the chart for each i and j where 0 <= i < j <= n\n",
    "        for length in range(1, n):\n",
    "            for i in range(0, n-length):\n",
    "                j = i + length\n",
    "                for k in range(i, j):\n",
    "                    # The syntax `(key, value) in dict.items()`\n",
    "                    # iterates over key-value pairs of a dictionary.\n",
    "                    for (rhs1, s1) in chart[i, k].items():\n",
    "                        for (rhs2, s2) in chart[k+1, j].items():\n",
    "                            \n",
    "                            # TODO\n",
    "                            raise NotImplementedError()\n",
    "                                    \n",
    "        if grammar.start in chart[0, n-1]:\n",
    "            return chart[0, n-1][grammar.start]\n",
    "        else:\n",
    "            return None   "
   ]
  },
  {
   "cell_type": "markdown",
   "metadata": {},
   "source": [
    "If the implementation is correct, the sequence `[\"Cmaj\", \"Dm7\", \"G7\", \"Cmaj7\"]` should have exactly one possible parse and the sequence `[\"Cmaj\", \"G7\", \"Dm7\", \"Cmaj7\"]` should have none."
   ]
  },
  {
   "cell_type": "code",
   "execution_count": null,
   "metadata": {},
   "outputs": [],
   "source": [
    "grammar1 = Grammar(score, start, rules)\n",
    "\n",
    "assert grammar1.parse([\"Cmaj7\", \"Dm7\", \"G7\", \"Cmaj7\"]) == 1\n",
    "assert grammar1.parse([\"Cmaj7\", \"G7\", \"Dm7\", \"Cmaj7\"]) == None"
   ]
  },
  {
   "cell_type": "markdown",
   "metadata": {},
   "source": [
    "**Exercise 1.2.** Draw the parse tree of the first sequence by hand on paper.\n",
    "\n",
    "**Exercise 1.3.** To further test your implementation, create a grammar in Chomsky normal form that generates all possible binary trees and use it to compute the number of binary trees with 10 leafs. The correct answer is [4862](https://en.wikipedia.org/wiki/Catalan_number)."
   ]
  },
  {
   "cell_type": "code",
   "execution_count": null,
   "metadata": {},
   "outputs": [],
   "source": [
    "# TODO\n",
    "all_binary_trees_grammar = NotImplementedError()\n",
    "\n",
    "assert all_binary_trees_grammar.parse([\"a\" for _ in range(10)]) == 4862"
   ]
  },
  {
   "cell_type": "markdown",
   "metadata": {},
   "source": [
    "**Exercise 1.4.** Describe the set of all possible chord sequences of our first toy grammar in words, it can be characterized by two properties.\n",
    "\n",
    "**Exercise 1.5.** The following method generates random sequences from a grammar. You can call it by typing `grammar.generate_uniform_random()`. Use it to generate a sequence of length 10 by rejection sampling. If you are unlucky you might encounter a `RecursionError`. Then just don't worry and try it again. Write down your intuition of the number of parse trees of this sequence. Calculate the actual number of parse trees using the parse method of the grammar. Repeat this for multiple sequences and compare the outcomes to your estimations."
   ]
  },
  {
   "cell_type": "code",
   "execution_count": null,
   "metadata": {},
   "outputs": [],
   "source": [
    "import random\n",
    "\n",
    "def generate_uniform_random(grammar, sequence):\n",
    "    if sequence == []:\n",
    "        return []\n",
    "    else:\n",
    "        first = sequence[0]\n",
    "        rest = sequence[1:]\n",
    "        \n",
    "        rules = list(filter(lambda rule: rule[0] == first, grammar.rules))\n",
    "        (lhs, rhs) = random.choice(rules)\n",
    "        if type(rhs) is tuple:\n",
    "            return generate_uniform_random(grammar, list(rhs)) + generate_uniform_random(grammar, rest)\n",
    "        else:\n",
    "            return [rhs] + generate_uniform_random(grammar, rest)\n",
    "        \n",
    "# add generate_uniform random as a method\n",
    "setattr(Grammar, \"generate_uniform_random\", lambda grammar: generate_uniform_random(grammar, [grammar.start]))"
   ]
  },
  {
   "cell_type": "code",
   "execution_count": null,
   "metadata": {},
   "outputs": [],
   "source": [
    "# Exercise 1.5.\n"
   ]
  },
  {
   "cell_type": "markdown",
   "metadata": {},
   "source": [
    "---\n",
    "\n",
    "## Exercise 2. Computing and Visualizing Derivations\n",
    "\n",
    "Recall from the lecture that a derivation of a sequence of terminal symbols is a list of rules that returns the input sequence when always applied to the left-most nonterminal symbol of the so-far-generated sequence. The second exercise is about using the generic parsing algorithm from Exercise 1 to compute derivations. Here we use the following slightly more elaborated grammar:"
   ]
  },
  {
   "cell_type": "code",
   "execution_count": null,
   "metadata": {},
   "outputs": [],
   "source": [
    "prolongations = [ \n",
    "    (X, (X, X)) for X in \"I II III IV V VI VII\".split() \n",
    "]\n",
    "\n",
    "preparations = [\n",
    "    (\"I\", (\"V\", \"I\")),\n",
    "    (\"II\", (\"VI\", \"II\")),\n",
    "    (\"III\", (\"VII\", \"III\")),\n",
    "    (\"V\", (\"II\", \"V\")),\n",
    "    (\"V\", (\"IV\", \"V\")),\n",
    "    (\"VI\", (\"III\", \"VI\")),\n",
    "    (\"VII\", (\"IV\", \"VII\")),\n",
    "]\n",
    "\n",
    "terminations = [\n",
    "    (\"I\", \"Cmaj7\"),\n",
    "    (\"II\", \"Dm7\"),\n",
    "    (\"III\", \"Em7\"),\n",
    "    (\"IV\", \"Fmaj7\"),\n",
    "    (\"V\", \"G7\"),\n",
    "    (\"VI\", \"Am7\"),\n",
    "    (\"VII\", \"Bhdim7\"),\n",
    "]\n",
    "\n",
    "harmony_rules = prolongations + preparations + terminations\n",
    "grammar2 = Grammar(lambda rule: 1, \"I\", harmony_rules)"
   ]
  },
  {
   "cell_type": "markdown",
   "metadata": {},
   "source": [
    "With respect to `grammar2`, the sequences `Cmaj7 Fmaj7 Dm7 G7 Cmaj7` and `Cmaj7 Dm7 G7 Dm7 G7 Cmaj7` have 1 and 3 derivations, respectively."
   ]
  },
  {
   "cell_type": "code",
   "execution_count": null,
   "metadata": {},
   "outputs": [],
   "source": [
    "chords = \"Cmaj7 Fmaj7 Dm7 G7 Cmaj7\".split()\n",
    "grammar2.parse(chords)"
   ]
  },
  {
   "cell_type": "code",
   "execution_count": null,
   "metadata": {},
   "outputs": [],
   "source": [
    "chords = \"Cmaj7 Dm7 G7 Dm7 G7 Cmaj7\".split()\n",
    "grammar2.parse(chords)"
   ]
  },
  {
   "cell_type": "markdown",
   "metadata": {},
   "source": [
    "In the following, we compute not only the number of derivations, but the derivations themself. We make use of the **derivation semiring** as discussed in class."
   ]
  },
  {
   "cell_type": "markdown",
   "metadata": {},
   "source": [
    "**Exercise 2.1.** Complete the `DerivationForest` class by overloading the operators for addition and multiplication."
   ]
  },
  {
   "cell_type": "code",
   "execution_count": null,
   "metadata": {},
   "outputs": [],
   "source": [
    "class DerivationForest:\n",
    "    def __init__(self, derivations):\n",
    "        self.derivations = derivations\n",
    "        \n",
    "    @staticmethod\n",
    "    def singleton(rule):\n",
    "        return DerivationForest([[rule]])\n",
    "        \n",
    "    # overload operator +\n",
    "    def __add__(self, other):\n",
    "        # TODO\n",
    "        raise NotImplementedError()\n",
    "    \n",
    "    # overload operator *\n",
    "    def __mul__(self, other):\n",
    "        # TODO\n",
    "        raise NotImplementedError()"
   ]
  },
  {
   "cell_type": "code",
   "execution_count": null,
   "metadata": {},
   "outputs": [],
   "source": [
    "grammar2free = Grammar(DerivationForest.singleton, \"I\", harmony_rules)\n",
    "chords = \"Cmaj7 Fmaj7 Dm7 G7 Cmaj7\".split()\n",
    "grammar2free.parse(chords).derivations"
   ]
  },
  {
   "cell_type": "code",
   "execution_count": null,
   "metadata": {},
   "outputs": [],
   "source": [
    "chords = \"Cmaj7 Dm7 G7 Dm7 G7 Cmaj7\".split()\n",
    "grammar2free.parse(chords).derivations"
   ]
  },
  {
   "cell_type": "markdown",
   "metadata": {},
   "source": [
    "For the computer, this representation of a parse tree is perfectly fine. Humans, however, prefer to actually plot derivations as trees. The following class achieves exactly that (using the plotting tool `tree_parser` defined in `tree_parser.py`):"
   ]
  },
  {
   "cell_type": "code",
   "execution_count": null,
   "metadata": {},
   "outputs": [],
   "source": [
    "import copy\n",
    "\n",
    "from tree_parser import TreeParser\n",
    "import matplotlib.pyplot as plt\n",
    "%matplotlib inline\n",
    "\n",
    "class Tree:\n",
    "    def __init__(self, value, children=[]):\n",
    "        self.value = value\n",
    "        self.children = children\n",
    "        \n",
    "    def __str__(self):\n",
    "        if len(self.children) == 0:\n",
    "            return \"[\" + str(self.value) + \" ]\" + \" \"\n",
    "        elif len(self.children) == 1:\n",
    "            return \"[\" + str(self.value) + \" \" + str(self.children[0]) + \"] \"\n",
    "        else:\n",
    "            return \"[\" + str(self.value) + \" \" + str(self.children[0]) + str(self.children[1]) + \"] \"\n",
    "        \n",
    "    def plot(self, size=(20,10), padding=0.5):\n",
    "        fig, ax = plt.subplots(1, 1, figsize=size)\n",
    "        parser = TreeParser(str(self), True)\n",
    "        parser.plot(ax=ax, padding=padding, node_style={'facecolor': 'white'})\n",
    "        \n",
    "    @staticmethod\n",
    "    def from_derivation(rules):\n",
    "        def derivation_tree(rules):\n",
    "            r = rules.pop(0)\n",
    "            lhs, rhs = r\n",
    "            if isinstance(rhs, tuple):\n",
    "                return Tree(lhs, [derivation_tree(rules), derivation_tree(rules)])\n",
    "            else:\n",
    "                return Tree(lhs, [Tree(rhs)])\n",
    "\n",
    "        return derivation_tree(copy.deepcopy(rules))"
   ]
  },
  {
   "cell_type": "code",
   "execution_count": null,
   "metadata": {},
   "outputs": [],
   "source": [
    "chords = \"Cmaj7 Fmaj7 Dm7 G7 Cmaj7\".split()\n",
    "for d in grammar2free.parse(chords).derivations:\n",
    "    Tree.from_derivation(d).plot(size=(10,5))"
   ]
  },
  {
   "cell_type": "code",
   "execution_count": null,
   "metadata": {},
   "outputs": [],
   "source": [
    "chords = \"Cmaj7 Dm7 G7 Dm7 G7 Cmaj7\".split()\n",
    "for d in grammar2free.parse(chords).derivations:\n",
    "    Tree.from_derivation(d).plot(size=(10,5))"
   ]
  },
  {
   "cell_type": "markdown",
   "metadata": {},
   "source": [
    "**Exercise 2.2.** You now have all the tools to define grammar models, parse sequences of terminals, and visualize parse trees. Play around and try your ideas before going on to Exercise 3."
   ]
  },
  {
   "cell_type": "code",
   "execution_count": null,
   "metadata": {},
   "outputs": [],
   "source": [
    "# Playground\n",
    "\n",
    "\n",
    "\n"
   ]
  },
  {
   "cell_type": "markdown",
   "metadata": {},
   "source": [
    "---\n",
    "\n",
    "## Exercise 3. Reflection and Extension\n",
    "\n",
    "**Exercise 3.1.** The representation of parse trees by derivations (lists of rules) only makes sense if the sets of nonterminal and terminal symbols are disjunct. Show that you can create a bad case if you drop these assumptions by creating a minimal example where multiple parse trees correspond to the same derivation. The list of all derivations must in this case contain at least one derivation multiple times."
   ]
  },
  {
   "cell_type": "code",
   "execution_count": null,
   "metadata": {},
   "outputs": [],
   "source": [
    "# Exercise 3.1.\n"
   ]
  },
  {
   "cell_type": "markdown",
   "metadata": {},
   "source": [
    "**Exercise 3.2.** As mentioned in the beginning, the presented implementation is not optimized for runtime performance. How can the `completions` method be improved with this regard? Implement your idea and compare it to the original method using the `%time` [magic command](https://ipython.readthedocs.io/en/stable/interactive/magics.html) and a suitable benchmark task."
   ]
  },
  {
   "cell_type": "code",
   "execution_count": null,
   "metadata": {},
   "outputs": [],
   "source": [
    "# Exercise 3.2.\n"
   ]
  },
  {
   "cell_type": "markdown",
   "metadata": {},
   "source": [
    "**Exercise 3.3.** The presented algorithm works only for context-free grammars in Chomsky normal form. Write a function that transforms a more general context-free grammar (e.g. grammars that also allow ternary rules) into Chomsky normal form."
   ]
  },
  {
   "cell_type": "code",
   "execution_count": null,
   "metadata": {},
   "outputs": [],
   "source": [
    "# Exercise 3.3.\n"
   ]
  }
 ],
 "metadata": {
  "kernelspec": {
   "display_name": "Python 3",
   "language": "python",
   "name": "python3"
  },
  "language_info": {
   "codemirror_mode": {
    "name": "ipython",
    "version": 3
   },
   "file_extension": ".py",
   "mimetype": "text/x-python",
   "name": "python",
   "nbconvert_exporter": "python",
   "pygments_lexer": "ipython3",
   "version": "3.7.3"
  }
 },
 "nbformat": 4,
 "nbformat_minor": 2
}
